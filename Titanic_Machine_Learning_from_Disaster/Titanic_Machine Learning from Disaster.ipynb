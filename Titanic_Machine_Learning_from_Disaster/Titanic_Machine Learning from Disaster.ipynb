{
 "cells": [
  {
   "cell_type": "markdown",
   "metadata": {},
   "source": [
    "Score: 0.64 ,original: 0.74"
   ]
  },
  {
   "cell_type": "code",
   "execution_count": 182,
   "metadata": {
    "collapsed": false
   },
   "outputs": [],
   "source": [
    "#Imports\n",
    "\n",
    "#pandas\n",
    "import pandas as pd\n",
    "from pandas import Series,DataFrame\n",
    "\n",
    "#numpy, matplotlib, seaborn\n",
    "import numpy as np\n",
    "import matplotlib.pyplot as plt\n",
    "import seaborn as sns\n",
    "sns.set_style('whitegrid')\n",
    "\n",
    "%matplotlib inline\n",
    "\n",
    "#machine learning\n",
    "from sklearn.linear_model import Perceptron\n",
    "from sklearn.linear_model import LogisticRegression\n",
    "from sklearn.svm import SVC,LinearSVC\n",
    "from sklearn.ensemble import RandomForestClassifier\n",
    "from sklearn.neighbors import KNeighborsClassifier\n",
    "from sklearn.naive_bayes import GaussianNB\n",
    "\n",
    "from sklearn.tree import DecisionTreeClassifier\n",
    "from sklearn.ensemble import AdaBoostClassifier\n",
    "from sklearn.ensemble import BaggingClassifier\n",
    "\n",
    "from sklearn.neural_network import MLPClassifier\n",
    "\n",
    "from sklearn.metrics import accuracy_score"
   ]
  },
  {
   "cell_type": "code",
   "execution_count": 183,
   "metadata": {
    "collapsed": false
   },
   "outputs": [
    {
     "data": {
      "text/html": [
       "<div>\n",
       "<table border=\"1\" class=\"dataframe\">\n",
       "  <thead>\n",
       "    <tr style=\"text-align: right;\">\n",
       "      <th></th>\n",
       "      <th>PassengerId</th>\n",
       "      <th>Survived</th>\n",
       "      <th>Pclass</th>\n",
       "      <th>Name</th>\n",
       "      <th>Sex</th>\n",
       "      <th>Age</th>\n",
       "      <th>SibSp</th>\n",
       "      <th>Parch</th>\n",
       "      <th>Ticket</th>\n",
       "      <th>Fare</th>\n",
       "      <th>Cabin</th>\n",
       "      <th>Embarked</th>\n",
       "    </tr>\n",
       "  </thead>\n",
       "  <tbody>\n",
       "    <tr>\n",
       "      <th>0</th>\n",
       "      <td>1</td>\n",
       "      <td>0</td>\n",
       "      <td>3</td>\n",
       "      <td>Braund, Mr. Owen Harris</td>\n",
       "      <td>male</td>\n",
       "      <td>22.0</td>\n",
       "      <td>1</td>\n",
       "      <td>0</td>\n",
       "      <td>A/5 21171</td>\n",
       "      <td>7.2500</td>\n",
       "      <td>NaN</td>\n",
       "      <td>S</td>\n",
       "    </tr>\n",
       "    <tr>\n",
       "      <th>1</th>\n",
       "      <td>2</td>\n",
       "      <td>1</td>\n",
       "      <td>1</td>\n",
       "      <td>Cumings, Mrs. John Bradley (Florence Briggs Th...</td>\n",
       "      <td>female</td>\n",
       "      <td>38.0</td>\n",
       "      <td>1</td>\n",
       "      <td>0</td>\n",
       "      <td>PC 17599</td>\n",
       "      <td>71.2833</td>\n",
       "      <td>C85</td>\n",
       "      <td>C</td>\n",
       "    </tr>\n",
       "    <tr>\n",
       "      <th>2</th>\n",
       "      <td>3</td>\n",
       "      <td>1</td>\n",
       "      <td>3</td>\n",
       "      <td>Heikkinen, Miss. Laina</td>\n",
       "      <td>female</td>\n",
       "      <td>26.0</td>\n",
       "      <td>0</td>\n",
       "      <td>0</td>\n",
       "      <td>STON/O2. 3101282</td>\n",
       "      <td>7.9250</td>\n",
       "      <td>NaN</td>\n",
       "      <td>S</td>\n",
       "    </tr>\n",
       "    <tr>\n",
       "      <th>3</th>\n",
       "      <td>4</td>\n",
       "      <td>1</td>\n",
       "      <td>1</td>\n",
       "      <td>Futrelle, Mrs. Jacques Heath (Lily May Peel)</td>\n",
       "      <td>female</td>\n",
       "      <td>35.0</td>\n",
       "      <td>1</td>\n",
       "      <td>0</td>\n",
       "      <td>113803</td>\n",
       "      <td>53.1000</td>\n",
       "      <td>C123</td>\n",
       "      <td>S</td>\n",
       "    </tr>\n",
       "    <tr>\n",
       "      <th>4</th>\n",
       "      <td>5</td>\n",
       "      <td>0</td>\n",
       "      <td>3</td>\n",
       "      <td>Allen, Mr. William Henry</td>\n",
       "      <td>male</td>\n",
       "      <td>35.0</td>\n",
       "      <td>0</td>\n",
       "      <td>0</td>\n",
       "      <td>373450</td>\n",
       "      <td>8.0500</td>\n",
       "      <td>NaN</td>\n",
       "      <td>S</td>\n",
       "    </tr>\n",
       "  </tbody>\n",
       "</table>\n",
       "</div>"
      ],
      "text/plain": [
       "   PassengerId  Survived  Pclass  \\\n",
       "0            1         0       3   \n",
       "1            2         1       1   \n",
       "2            3         1       3   \n",
       "3            4         1       1   \n",
       "4            5         0       3   \n",
       "\n",
       "                                                Name     Sex   Age  SibSp  \\\n",
       "0                            Braund, Mr. Owen Harris    male  22.0      1   \n",
       "1  Cumings, Mrs. John Bradley (Florence Briggs Th...  female  38.0      1   \n",
       "2                             Heikkinen, Miss. Laina  female  26.0      0   \n",
       "3       Futrelle, Mrs. Jacques Heath (Lily May Peel)  female  35.0      1   \n",
       "4                           Allen, Mr. William Henry    male  35.0      0   \n",
       "\n",
       "   Parch            Ticket     Fare Cabin Embarked  \n",
       "0      0         A/5 21171   7.2500   NaN        S  \n",
       "1      0          PC 17599  71.2833   C85        C  \n",
       "2      0  STON/O2. 3101282   7.9250   NaN        S  \n",
       "3      0            113803  53.1000  C123        S  \n",
       "4      0            373450   8.0500   NaN        S  "
      ]
     },
     "execution_count": 183,
     "metadata": {},
     "output_type": "execute_result"
    }
   ],
   "source": [
    "#get titanic & test csv files as a DataFrame\n",
    "titanic_df = pd.read_csv(\"../input/train.csv\",dtype = {\"Age\":np.float64},)\n",
    "test_df = pd.read_csv(\"../input/test.csv\",dtype = {\"Age\":np.float64},)\n",
    "\n",
    "#preview the data\n",
    "#titanic_df.head()"
   ]
  },
  {
   "cell_type": "code",
   "execution_count": 184,
   "metadata": {
    "collapsed": false
   },
   "outputs": [
    {
     "name": "stdout",
     "output_type": "stream",
     "text": [
      "<class 'pandas.core.frame.DataFrame'>\n",
      "RangeIndex: 891 entries, 0 to 890\n",
      "Data columns (total 12 columns):\n",
      "PassengerId    891 non-null int64\n",
      "Survived       891 non-null int64\n",
      "Pclass         891 non-null int64\n",
      "Name           891 non-null object\n",
      "Sex            891 non-null object\n",
      "Age            714 non-null float64\n",
      "SibSp          891 non-null int64\n",
      "Parch          891 non-null int64\n",
      "Ticket         891 non-null object\n",
      "Fare           891 non-null float64\n",
      "Cabin          204 non-null object\n",
      "Embarked       889 non-null object\n",
      "dtypes: float64(2), int64(5), object(5)\n",
      "memory usage: 83.6+ KB\n",
      "---------------------------------\n",
      "<class 'pandas.core.frame.DataFrame'>\n",
      "RangeIndex: 418 entries, 0 to 417\n",
      "Data columns (total 11 columns):\n",
      "PassengerId    418 non-null int64\n",
      "Pclass         418 non-null int64\n",
      "Name           418 non-null object\n",
      "Sex            418 non-null object\n",
      "Age            332 non-null float64\n",
      "SibSp          418 non-null int64\n",
      "Parch          418 non-null int64\n",
      "Ticket         418 non-null object\n",
      "Fare           417 non-null float64\n",
      "Cabin          91 non-null object\n",
      "Embarked       418 non-null object\n",
      "dtypes: float64(2), int64(4), object(5)\n",
      "memory usage: 36.0+ KB\n"
     ]
    }
   ],
   "source": [
    "#titanic_df.info()\n",
    "#print ('---------------------------------')\n",
    "#test_df.info()"
   ]
  },
  {
   "cell_type": "code",
   "execution_count": 185,
   "metadata": {
    "collapsed": true
   },
   "outputs": [],
   "source": [
    "#drop unnecessory columns, these columns won't be useful in analysis and prediction\n",
    "titanic_df = titanic_df.drop(['PassengerId','Name','Ticket'],axis = 1)\n",
    "test_df = test_df.drop(['Name','Ticket'],axis = 1)"
   ]
  },
  {
   "cell_type": "code",
   "execution_count": 186,
   "metadata": {
    "collapsed": false
   },
   "outputs": [
    {
     "data": {
      "text/html": [
       "<div>\n",
       "<table border=\"1\" class=\"dataframe\">\n",
       "  <thead>\n",
       "    <tr style=\"text-align: right;\">\n",
       "      <th></th>\n",
       "      <th>Survived</th>\n",
       "      <th>Pclass</th>\n",
       "      <th>Sex</th>\n",
       "      <th>Age</th>\n",
       "      <th>SibSp</th>\n",
       "      <th>Parch</th>\n",
       "      <th>Fare</th>\n",
       "      <th>Cabin</th>\n",
       "      <th>Embarked</th>\n",
       "    </tr>\n",
       "  </thead>\n",
       "  <tbody>\n",
       "    <tr>\n",
       "      <th>0</th>\n",
       "      <td>0</td>\n",
       "      <td>3</td>\n",
       "      <td>male</td>\n",
       "      <td>22.0</td>\n",
       "      <td>1</td>\n",
       "      <td>0</td>\n",
       "      <td>7.2500</td>\n",
       "      <td>NaN</td>\n",
       "      <td>S</td>\n",
       "    </tr>\n",
       "    <tr>\n",
       "      <th>1</th>\n",
       "      <td>1</td>\n",
       "      <td>1</td>\n",
       "      <td>female</td>\n",
       "      <td>38.0</td>\n",
       "      <td>1</td>\n",
       "      <td>0</td>\n",
       "      <td>71.2833</td>\n",
       "      <td>C85</td>\n",
       "      <td>C</td>\n",
       "    </tr>\n",
       "    <tr>\n",
       "      <th>2</th>\n",
       "      <td>1</td>\n",
       "      <td>3</td>\n",
       "      <td>female</td>\n",
       "      <td>26.0</td>\n",
       "      <td>0</td>\n",
       "      <td>0</td>\n",
       "      <td>7.9250</td>\n",
       "      <td>NaN</td>\n",
       "      <td>S</td>\n",
       "    </tr>\n",
       "    <tr>\n",
       "      <th>3</th>\n",
       "      <td>1</td>\n",
       "      <td>1</td>\n",
       "      <td>female</td>\n",
       "      <td>35.0</td>\n",
       "      <td>1</td>\n",
       "      <td>0</td>\n",
       "      <td>53.1000</td>\n",
       "      <td>C123</td>\n",
       "      <td>S</td>\n",
       "    </tr>\n",
       "    <tr>\n",
       "      <th>4</th>\n",
       "      <td>0</td>\n",
       "      <td>3</td>\n",
       "      <td>male</td>\n",
       "      <td>35.0</td>\n",
       "      <td>0</td>\n",
       "      <td>0</td>\n",
       "      <td>8.0500</td>\n",
       "      <td>NaN</td>\n",
       "      <td>S</td>\n",
       "    </tr>\n",
       "  </tbody>\n",
       "</table>\n",
       "</div>"
      ],
      "text/plain": [
       "   Survived  Pclass     Sex   Age  SibSp  Parch     Fare Cabin Embarked\n",
       "0         0       3    male  22.0      1      0   7.2500   NaN        S\n",
       "1         1       1  female  38.0      1      0  71.2833   C85        C\n",
       "2         1       3  female  26.0      0      0   7.9250   NaN        S\n",
       "3         1       1  female  35.0      1      0  53.1000  C123        S\n",
       "4         0       3    male  35.0      0      0   8.0500   NaN        S"
      ]
     },
     "execution_count": 186,
     "metadata": {},
     "output_type": "execute_result"
    }
   ],
   "source": [
    "#titanic_df.head()"
   ]
  },
  {
   "cell_type": "code",
   "execution_count": 187,
   "metadata": {
    "collapsed": false
   },
   "outputs": [
    {
     "name": "stdout",
     "output_type": "stream",
     "text": [
      "<class 'pandas.core.frame.DataFrame'>\n",
      "RangeIndex: 891 entries, 0 to 890\n",
      "Data columns (total 9 columns):\n",
      "Survived    891 non-null int64\n",
      "Pclass      891 non-null int64\n",
      "Sex         891 non-null object\n",
      "Age         714 non-null float64\n",
      "SibSp       891 non-null int64\n",
      "Parch       891 non-null int64\n",
      "Fare        891 non-null float64\n",
      "Cabin       204 non-null object\n",
      "Embarked    889 non-null object\n",
      "dtypes: float64(2), int64(4), object(3)\n",
      "memory usage: 62.7+ KB\n"
     ]
    }
   ],
   "source": [
    "#titanic_df.info()"
   ]
  },
  {
   "cell_type": "code",
   "execution_count": 188,
   "metadata": {
    "collapsed": false
   },
   "outputs": [
    {
     "name": "stderr",
     "output_type": "stream",
     "text": [
      "C:\\Program Files\\Anaconda3\\lib\\site-packages\\ipykernel\\__main__.py:7: SettingWithCopyWarning: \n",
      "A value is trying to be set on a copy of a slice from a DataFrame\n",
      "\n",
      "See the caveats in the documentation: http://pandas.pydata.org/pandas-docs/stable/indexing.html#indexing-view-versus-copy\n"
     ]
    },
    {
     "data": {
      "text/plain": [
       "<matplotlib.axes._subplots.AxesSubplot at 0x1648ecc0>"
      ]
     },
     "execution_count": 188,
     "metadata": {},
     "output_type": "execute_result"
    },
    {
     "data": {
      "image/png": "[encoded data removed]",
      "text/plain": [
       "<matplotlib.figure.Figure at 0x14886c18>"
      ]
     },
     "metadata": {},
     "output_type": "display_data"
    },
    {
     "data": {
      "image/png": "[encoded data removed]",
      "text/plain": [
       "<matplotlib.figure.Figure at 0x14555f60>"
      ]
     },
     "metadata": {},
     "output_type": "display_data"
    }
   ],
   "source": [
    "#embarked \n",
    "#titanic_df['Embarked'].describe()\n",
    "#only in titanic_df,fill the two missing values with most ocurred value, which is \"S\"\n",
    "#titanic_df['Embarked'] = titanic_df['Embarked'].fillna('S')\n",
    "\n",
    "if len(titanic_df['Embarked'][titanic_df['Embarked'].isnull()])>0:\n",
    "    titanic_df['Embarked'][titanic_df['Embarked'].isnull()] = titanic_df['Embarked'].dropna().mode().values\n",
    "\n",
    "if len(test_df['Embarked'][test_df['Embarked'].isnull()])>0:\n",
    "    test_df['Embarked'][test_df['Embarked'].isnull()] = test_df['Embarked'].dropna().mode().values\n",
    "#titanic_df.info()\n",
    "#plot\n",
    "sns.factorplot('Embarked','Survived',data = titanic_df,size = 4,aspect = 3)\n",
    "\n",
    "fig,(axis1,axis2,axis3) = plt.subplots(1,3,figsize=(15,5))\n",
    "\n",
    "sns.countplot(x='Embarked',data = titanic_df,ax = axis1)\n",
    "sns.countplot(x = 'Survived',hue = 'Embarked',data = titanic_df,order = [1,0],ax = axis2)\n",
    "\n",
    "#group by embarked, and get the mean for survived passengers for each value in Embarked\n",
    "embark_perc = titanic_df[['Embarked','Survived']].groupby(['Embarked'],as_index = False).mean()\n",
    "sns.barplot(x = 'Embarked',y = 'Survived',data = embark_perc, order = ['S','C','Q'],ax = axis3)"
   ]
  },
  {
   "cell_type": "code",
   "execution_count": 189,
   "metadata": {
    "collapsed": false
   },
   "outputs": [
    {
     "data": {
      "text/html": [
       "<div>\n",
       "<table border=\"1\" class=\"dataframe\">\n",
       "  <thead>\n",
       "    <tr style=\"text-align: right;\">\n",
       "      <th></th>\n",
       "      <th>Survived</th>\n",
       "      <th>Pclass</th>\n",
       "      <th>Sex</th>\n",
       "      <th>Age</th>\n",
       "      <th>SibSp</th>\n",
       "      <th>Parch</th>\n",
       "      <th>Fare</th>\n",
       "      <th>Cabin</th>\n",
       "      <th>C</th>\n",
       "      <th>Q</th>\n",
       "      <th>S</th>\n",
       "    </tr>\n",
       "  </thead>\n",
       "  <tbody>\n",
       "    <tr>\n",
       "      <th>0</th>\n",
       "      <td>0</td>\n",
       "      <td>3</td>\n",
       "      <td>male</td>\n",
       "      <td>22.0</td>\n",
       "      <td>1</td>\n",
       "      <td>0</td>\n",
       "      <td>7.2500</td>\n",
       "      <td>NaN</td>\n",
       "      <td>0.0</td>\n",
       "      <td>0.0</td>\n",
       "      <td>1.0</td>\n",
       "    </tr>\n",
       "    <tr>\n",
       "      <th>1</th>\n",
       "      <td>1</td>\n",
       "      <td>1</td>\n",
       "      <td>female</td>\n",
       "      <td>38.0</td>\n",
       "      <td>1</td>\n",
       "      <td>0</td>\n",
       "      <td>71.2833</td>\n",
       "      <td>C85</td>\n",
       "      <td>1.0</td>\n",
       "      <td>0.0</td>\n",
       "      <td>0.0</td>\n",
       "    </tr>\n",
       "    <tr>\n",
       "      <th>2</th>\n",
       "      <td>1</td>\n",
       "      <td>3</td>\n",
       "      <td>female</td>\n",
       "      <td>26.0</td>\n",
       "      <td>0</td>\n",
       "      <td>0</td>\n",
       "      <td>7.9250</td>\n",
       "      <td>NaN</td>\n",
       "      <td>0.0</td>\n",
       "      <td>0.0</td>\n",
       "      <td>1.0</td>\n",
       "    </tr>\n",
       "    <tr>\n",
       "      <th>3</th>\n",
       "      <td>1</td>\n",
       "      <td>1</td>\n",
       "      <td>female</td>\n",
       "      <td>35.0</td>\n",
       "      <td>1</td>\n",
       "      <td>0</td>\n",
       "      <td>53.1000</td>\n",
       "      <td>C123</td>\n",
       "      <td>0.0</td>\n",
       "      <td>0.0</td>\n",
       "      <td>1.0</td>\n",
       "    </tr>\n",
       "    <tr>\n",
       "      <th>4</th>\n",
       "      <td>0</td>\n",
       "      <td>3</td>\n",
       "      <td>male</td>\n",
       "      <td>35.0</td>\n",
       "      <td>0</td>\n",
       "      <td>0</td>\n",
       "      <td>8.0500</td>\n",
       "      <td>NaN</td>\n",
       "      <td>0.0</td>\n",
       "      <td>0.0</td>\n",
       "      <td>1.0</td>\n",
       "    </tr>\n",
       "  </tbody>\n",
       "</table>\n",
       "</div>"
      ],
      "text/plain": [
       "   Survived  Pclass     Sex   Age  SibSp  Parch     Fare Cabin    C    Q    S\n",
       "0         0       3    male  22.0      1      0   7.2500   NaN  0.0  0.0  1.0\n",
       "1         1       1  female  38.0      1      0  71.2833   C85  1.0  0.0  0.0\n",
       "2         1       3  female  26.0      0      0   7.9250   NaN  0.0  0.0  1.0\n",
       "3         1       1  female  35.0      1      0  53.1000  C123  0.0  0.0  1.0\n",
       "4         0       3    male  35.0      0      0   8.0500   NaN  0.0  0.0  1.0"
      ]
     },
     "execution_count": 189,
     "metadata": {},
     "output_type": "execute_result"
    }
   ],
   "source": [
    "#Either to consider Embarked column in predictions,\n",
    "#and remove \"S\" dummy variable,\n",
    "#and leave \"C\" & \"Q\",since them seem to have a good rate for Survival\n",
    "\n",
    "#OR ,don't creat dummy variables for Embarked column, just drop it,\n",
    "#because logically, Embarked doesn't seem to useful in prediction\n",
    "embark_dummies_titanic = pd.get_dummies(titanic_df['Embarked'])\n",
    "#embark_dummies_titanic\n",
    "\n",
    "#embark_dummies_titanic.drop(['S'],axis = 1,inplace = True)\n",
    "\n",
    "#embark_dummies_titanic\n",
    "\n",
    "embark_dummies_test = pd.get_dummies(test_df['Embarked'])\n",
    "\n",
    "#embark_dummies_test.drop(['S'],axis = 1,inplace = True)\n",
    "\n",
    "titanic_df = titanic_df.join(embark_dummies_titanic)\n",
    "#titanic_df\n",
    "test_df = test_df.join(embark_dummies_test)\n",
    "\n",
    "titanic_df.drop(['Embarked'],axis = 1,inplace = True)\n",
    "test_df.drop(['Embarked'],axis = 1,inplace = True)\n",
    "\n",
    "titanic_df.head()"
   ]
  },
  {
   "cell_type": "code",
   "execution_count": 190,
   "metadata": {
    "collapsed": false
   },
   "outputs": [
    {
     "data": {
      "text/plain": [
       "<matplotlib.axes._subplots.AxesSubplot at 0x1694d780>"
      ]
     },
     "execution_count": 190,
     "metadata": {},
     "output_type": "execute_result"
    },
    {
     "data": {
      "image/png": "[encoded data removed]",
      "text/plain": [
       "<matplotlib.figure.Figure at 0x156fcba8>"
      ]
     },
     "metadata": {},
     "output_type": "display_data"
    },
    {
     "data": {
      "image/png": "[encoded data removed]",
      "text/plain": [
       "<matplotlib.figure.Figure at 0x15e78048>"
      ]
     },
     "metadata": {},
     "output_type": "display_data"
    }
   ],
   "source": [
    "#Fare\n",
    "#only for test_df,since there is a missing \"Fare\" values\n",
    "#test_df[\"Fare\"].fillna(test_df[\"Fare\"].median(),inplace = True)\n",
    "\n",
    "if len(test_df.Fare[test_df.Fare.isnull()])>0:\n",
    "    median_fare = np.zeros(3)\n",
    "    for f in range(0,3):\n",
    "        median_fare[f] = test_df[test_df.Pclass == f+1]['Fare'].dropna().median()\n",
    "    for f in range(0,3):\n",
    "        test_df.loc[(test_df.Fare.isnull()) & (test_df.Pclass==f+1),'Fare'] = median_fare[f]\n",
    "\n",
    "#convert from float to int\n",
    "#titanic_df['Fare'] = titanic_df['Fare'].astype(int)\n",
    "#test_df['Fare'] = test_df['Fare'].astype(int)\n",
    "\n",
    "#get fare for survived & didn't survive passagers\n",
    "\n",
    "fare_not_survived = titanic_df['Fare'][titanic_df['Survived']==0]\n",
    "fare_survived = titanic_df['Fare'][titanic_df['Survived']==1]\n",
    "\n",
    "#get average and std for fare of survived/not survived passengers\n",
    "avgerage_fare = DataFrame([fare_not_survived.mean(),fare_survived.mean()])\n",
    "std_fare = DataFrame([fare_not_survived.std(),fare_survived.std()])\n",
    "\n",
    "#plot\n",
    "titanic_df['Fare'].plot(kind = 'hist',figsize = (15,3),bins = 100,xlim=(0,50))\n",
    "\n",
    "avgerage_fare.index.names = std_fare.index.names = ['Survived']\n",
    "avgerage_fare.plot(yerr = std_fare,kind = 'bar',legend = False)"
   ]
  },
  {
   "cell_type": "code",
   "execution_count": 191,
   "metadata": {
    "collapsed": false
   },
   "outputs": [
    {
     "name": "stderr",
     "output_type": "stream",
     "text": [
      "C:\\Program Files\\Anaconda3\\lib\\site-packages\\ipykernel\\__main__.py:24: SettingWithCopyWarning: \n",
      "A value is trying to be set on a copy of a slice from a DataFrame\n",
      "\n",
      "See the caveats in the documentation: http://pandas.pydata.org/pandas-docs/stable/indexing.html#indexing-view-versus-copy\n",
      "C:\\Program Files\\Anaconda3\\lib\\site-packages\\ipykernel\\__main__.py:25: SettingWithCopyWarning: \n",
      "A value is trying to be set on a copy of a slice from a DataFrame\n",
      "\n",
      "See the caveats in the documentation: http://pandas.pydata.org/pandas-docs/stable/indexing.html#indexing-view-versus-copy\n"
     ]
    },
    {
     "data": {
      "text/plain": [
       "<matplotlib.axes._subplots.AxesSubplot at 0x16a342e8>"
      ]
     },
     "execution_count": 191,
     "metadata": {},
     "output_type": "execute_result"
    },
    {
     "data": {
      "image/png": "[encoded data removed]",
      "text/plain": [
       "<matplotlib.figure.Figure at 0x169c0e80>"
      ]
     },
     "metadata": {},
     "output_type": "display_data"
    }
   ],
   "source": [
    "#Age\n",
    "fig ,(axis1,axis2) = plt.subplots(1,2,figsize = (15,4))\n",
    "axis1.set_title = 'Original Age values - Titanic'\n",
    "axis2.set_title = 'New Age values - Titanic'\n",
    "\n",
    "#get average,std,and number of NaN values in titanic_df\n",
    "average_age_titanic = titanic_df['Age'].mean()\n",
    "std_age_titanic = titanic_df['Age'].std()\n",
    "count_nan_age_titanic = titanic_df['Age'].isnull().sum()\n",
    "\n",
    "#get average,std, and number of NaN values in test_df\n",
    "average_age_test = test_df['Age'].mean()\n",
    "std_age_test = test_df['Age'].std()\n",
    "count_nan_age_test = test_df['Age'].isnull().sum()\n",
    "\n",
    "#generate random numbers between (mean-std) & (mean+std)\n",
    "rand_1 = np.random.randint(average_age_titanic - std_age_titanic,average_age_titanic+std_age_titanic,size =count_nan_age_titanic)\n",
    "rand_2 = np.random.randint(average_age_test - std_age_test,average_age_test + std_age_test,size = count_nan_age_test)\n",
    "\n",
    "#plot original Age Values\n",
    "titanic_df['Age'].dropna().astype(int).hist(bins = 70,ax = axis1)\n",
    "\n",
    "#fill NaN values in Age column with random values generated\n",
    "titanic_df['Age'][np.isnan(titanic_df['Age'])] = rand_1\n",
    "test_df['Age'][np.isnan(test_df['Age'])] = rand_2\n",
    "\n",
    "#convert from float to int\n",
    "titanic_df['Age'] = titanic_df['Age'].astype(int)\n",
    "test_df['Age'] = test_df['Age'].astype(int)\n",
    "\n",
    "#plot new Age Values\n",
    "titanic_df['Age'].hist(bins = 70,ax = axis2)"
   ]
  },
  {
   "cell_type": "code",
   "execution_count": 192,
   "metadata": {
    "collapsed": false
   },
   "outputs": [
    {
     "name": "stderr",
     "output_type": "stream",
     "text": [
      "C:\\Program Files\\Anaconda3\\lib\\site-packages\\statsmodels\\nonparametric\\kdetools.py:20: VisibleDeprecationWarning: using a non-integer number instead of an integer will result in an error in the future\n",
      "  y = X[:m/2+1] + np.r_[0,X[m/2+1:],0]*1j\n"
     ]
    },
    {
     "data": {
      "text/plain": [
       "<matplotlib.axes._subplots.AxesSubplot at 0x17105d68>"
      ]
     },
     "execution_count": 192,
     "metadata": {},
     "output_type": "execute_result"
    },
    {
     "data": {
      "image/png": "[encoded data removed]",
      "text/plain": [
       "<matplotlib.figure.Figure at 0x15e75fd0>"
      ]
     },
     "metadata": {},
     "output_type": "display_data"
    },
    {
     "data": {
      "image/png": "[encoded data removed]",
      "text/plain": [
       "<matplotlib.figure.Figure at 0x14962e10>"
      ]
     },
     "metadata": {},
     "output_type": "display_data"
    }
   ],
   "source": [
    "#continue with plot Age column\n",
    "#peaks for survived/not survived passengers by their age\n",
    "\n",
    "facet = sns.FacetGrid(titanic_df,hue = 'Survived',aspect = 4)\n",
    "facet.map(sns.kdeplot,'Age',shade = True)\n",
    "facet.set(xlim = (0,titanic_df['Age'].max()))\n",
    "facet.add_legend()\n",
    "\n",
    "#average survived passengers by age\n",
    "fig, axis1 = plt.subplots(1,1,figsize=(18,4))\n",
    "average_age = titanic_df[['Age','Survived']].groupby(['Age'],as_index = False).mean()\n",
    "sns.barplot(x = 'Age',y = 'Survived',data=average_age)"
   ]
  },
  {
   "cell_type": "code",
   "execution_count": 193,
   "metadata": {
    "collapsed": true
   },
   "outputs": [],
   "source": [
    "#Cabin\n",
    "#It has a lot of Nan Values, so it won't cause a remarkable impact on prediction\n",
    "titanic_df.drop(\"Cabin\",axis = 1,inplace = True)\n",
    "test_df.drop(\"Cabin\",axis = 1,inplace = True)"
   ]
  },
  {
   "cell_type": "code",
   "execution_count": 194,
   "metadata": {
    "collapsed": false
   },
   "outputs": [],
   "source": [
    "#Family\n",
    "\n",
    "#Instead of having two columns Parch & SibSp\n",
    "#we can have only one column represent if the passenger had any family member aboard or not,\n",
    "#Meaning , if having any family member(whether parent,brother,...etc) will increase chances of\n",
    "#survival or not\n",
    "\n",
    "#titanic_df['Family'] = titanic_df['Parch'] + titanic_df['SibSp']\n",
    "#titanic_df['Family'].loc[titanic_df['Family']>0] = 1\n",
    "#titanic_df['Family'].loc[titanic_df['Family'] == 0] = 0\n",
    "\n",
    "#test_df['Family'] = test_df['Parch'] + test_df['SibSp']\n",
    "#test_df['Family'].loc[test_df['Family']>0] = 1\n",
    "#test_df['Family'].loc[test_df['Family'] == 0] = 0\n",
    "\n",
    "#drop Parch & SibSp\n",
    "#titanic_df = titanic_df.drop(['SibSp','Parch'],axis = 1)\n",
    "#test_df = test_df.drop(['SibSp','Parch'],axis = 1)\n",
    "\n",
    "#plot\n",
    "#fig,(axis1,axis2)= plt.subplots(1,2,sharex = True,figsize = (10,5))\n",
    "#sns.countplot(x='Family',data = titanic_df,order=[1,0],ax = axis1)\n",
    "\n",
    "#average of survived for those who had/didn't have any family member\n",
    "#family_perc = titanic_df[['Family','Survived']].groupby(['Family'],as_index = False).mean()\n",
    "#sns.barplot(x = 'Family',y = 'Survived',data = family_perc,order = [1,0],ax = axis2)\n",
    "\n",
    "#axis1.set_xticklabels(['With Family','Alone'],rotation = 0)\n"
   ]
  },
  {
   "cell_type": "code",
   "execution_count": 195,
   "metadata": {
    "collapsed": false
   },
   "outputs": [
    {
     "data": {
      "text/plain": [
       "<matplotlib.axes._subplots.AxesSubplot at 0x175e7cf8>"
      ]
     },
     "execution_count": 195,
     "metadata": {},
     "output_type": "execute_result"
    },
    {
     "data": {
      "image/png": "[encoded data removed]",
      "text/plain": [
       "<matplotlib.figure.Figure at 0x15e75160>"
      ]
     },
     "metadata": {},
     "output_type": "display_data"
    }
   ],
   "source": [
    "#Sex\n",
    "\n",
    "#As we see , children (age < ~16) on aboard seem to have a high chances for Survival.\n",
    "#So, we can classify passengers as males , females, and child\n",
    "\n",
    "titanic_df['Gender'] = titanic_df['Sex'].map({'female':0,'male':1}).astype(int)\n",
    "test_df['Gender'] = titanic_df['Sex'].map({'female':0,'male':1}).astype(int)\n",
    "\n",
    "titanic_df = titanic_df.drop(['Sex'],axis = 1)\n",
    "test_df = test_df.drop(['Sex'],axis = 1)\n",
    "\n",
    "#def get_person(passenger):\n",
    "#    age, sex = passenger\n",
    "#    return 'child' if age < 16 else sex\n",
    "\n",
    "#titanic_df['Person'] = titanic_df[['Age','Sex']].apply(get_person,axis = 1)\n",
    "#test_df['Person'] = test_df[['Age','Sex']].apply(get_person,axis = 1)\n",
    "\n",
    "#No need to use Sex column since we created Person column\n",
    "\n",
    "#titanic_df.drop(['Sex'],axis = 1,inplace = True)\n",
    "#test_df.drop(['Sex'],axis = 1,inplace = True)\n",
    "\n",
    "#create dummy variables for Person column, & drop Male as it has the lowest average of survived passagers\n",
    "\n",
    "#person_dummies_titanic = pd.get_dummies(titanic_df['Person'])\n",
    "#person_dummies_titanic.columns = ['Child','Female','Male']\n",
    "#person_dummies_titanic.drop(['Male'],axis = 1,inplace = True)\n",
    "\n",
    "#person_dummies_test = pd.get_dummies(test_df['Person'])\n",
    "#person_dummies_test.columns = ['Child','Female','Male']\n",
    "#person_dummies_test.drop(['Male'],axis = 1,inplace = True)\n",
    "\n",
    "#titanic_df = titanic_df.join(person_dummies_titanic)\n",
    "#test_df = test_df.join(person_dummies_test)\n",
    "\n",
    "fig,(axis1,axis2) = plt.subplots(1,2,figsize=(10,5))\n",
    "\n",
    "#sns.countplot(x = 'Person',data = titanic_df,ax = axis1)\n",
    "sns.countplot(x = 'Gender',data = titanic_df,ax = axis1)\n",
    "\n",
    "#average of survived for each Person(male,female,or child)\n",
    "\n",
    "#person_perc = titanic_df[['Person','Survived']].groupby(['Person'],as_index = False).mean()\n",
    "#sns.barplot(x='Person',y = 'Survived',data = person_perc,ax = axis2,order = ['male','female','child'])\n",
    "\n",
    "gender_perc = titanic_df[['Gender','Survived']].groupby(['Gender'],as_index = False).mean()\n",
    "sns.barplot(x='Gender',y = 'Survived',data = gender_perc,ax = axis2,order = [0,1])\n",
    "\n",
    "#titanic_df.drop(['Person'],axis = 1,inplace = True)\n",
    "#test_df.drop(['Person'],axis = 1,inplace = True)"
   ]
  },
  {
   "cell_type": "code",
   "execution_count": 196,
   "metadata": {
    "collapsed": false
   },
   "outputs": [],
   "source": [
    "#Pclass\n",
    "\n",
    "#sns.factorplot('Pclass','Survived',order = [1,2,3],data = titanic_df,size = 5)\n",
    "#create dummy variables for Pclass column, & drop 3rd class as it has the lowest average of survived passagers\n",
    "\n",
    "#pclass_dummies_titanic = pd.get_dummies(titanic_df['Pclass'])\n",
    "#pclass_dummies_titanic.columns = ['Class_1','Class_2','Class_3']\n",
    "#pclass_dummies_titanic.drop(['Class_3'],axis = 1,inplace = True)\n",
    "\n",
    "#pclass_dummies_test = pd.get_dummies(test_df['Pclass'])\n",
    "#pclass_dummies_test.columns = ['Class_1','Class_2','Class_3']\n",
    "#pclass_dummies_test.drop(['Class_3'],axis = 1,inplace = True)\n",
    "\n",
    "#titanic_df.drop(['Pclass'],axis = 1,inplace = True)\n",
    "#test_df.drop(['Pclass'],axis = 1,inplace = True)\n",
    "\n",
    "#titanic_df = titanic_df.join(pclass_dummies_titanic)\n",
    "#test_df = test_df.join(pclass_dummies_test)"
   ]
  },
  {
   "cell_type": "code",
   "execution_count": 197,
   "metadata": {
    "collapsed": false
   },
   "outputs": [],
   "source": [
    "#define training and test sets\n",
    "X_train = titanic_df.drop('Survived',axis = 1)\n",
    "Y_train = titanic_df['Survived']\n",
    "X_test = test_df.drop(\"PassengerId\",axis = 1).copy()\n",
    "\n",
    "from sklearn.preprocessing import StandardScaler\n",
    "scalar = StandardScaler()\n",
    "\n",
    "scalar.fit(X_train)\n",
    "X_train_std = scalar.transform(X_train)\n",
    "X_test_std = scalar.transform(X_test)"
   ]
  },
  {
   "cell_type": "code",
   "execution_count": 198,
   "metadata": {
    "collapsed": false
   },
   "outputs": [],
   "source": [
    "#perceptron\n",
    "\n",
    "#ppn = Perceptron(n_iter = 100,eta0 = 0.1,random_state = 0)\n",
    "#ppn.fit(X_train_std,Y_train)\n",
    "\n",
    "#Y_pred = ppn.predict(X_train_std)\n",
    "#ppn_score = accuracy_score(Y_train,Y_pred)\n",
    "#ppn_score"
   ]
  },
  {
   "cell_type": "code",
   "execution_count": 199,
   "metadata": {
    "collapsed": false
   },
   "outputs": [],
   "source": [
    "#Logistic Regression\n",
    "#logreg = LogisticRegression()\n",
    "#logreg.fit(X_train_std,Y_train)\n",
    "\n",
    "#Y_pred = logreg.predict(X_train_std)\n",
    "#logreg_score = accuracy_score(Y_train,Y_pred)\n",
    "#logreg_score\n",
    "#Y_pred = logreg.predict(X_test)\n",
    "#logreg.score(X_train,Y_train)\n"
   ]
  },
  {
   "cell_type": "code",
   "execution_count": 200,
   "metadata": {
    "collapsed": false
   },
   "outputs": [],
   "source": [
    "#Support Vector Machines\n",
    "\n",
    "#svm = SVC(kernel = 'linear',C=1.0,random_state = 0)\n",
    "#svm.fit(X_train_std,Y_train)\n",
    "\n",
    "#Y_pred = svm.predict(X_train_std)\n",
    "#svm_score = accuracy_score(Y_train,Y_pred)\n",
    "#svm_score"
   ]
  },
  {
   "cell_type": "code",
   "execution_count": 201,
   "metadata": {
    "collapsed": false
   },
   "outputs": [],
   "source": [
    "#Decision Tree\n",
    "\n",
    "#decision_tree = DecisionTreeClassifier(criterion = 'entropy',max_depth = 6,random_state = 0)\n",
    "#decision_tree.fit(X_train,Y_train)\n",
    "\n",
    "#Y_pred = decision_tree.predict(X_train)\n",
    "\n",
    "#decision_tree_score_en = accuracy_score(Y_train,Y_pred)\n",
    "#print (decision_tree_score_en)\n",
    "\n",
    "#decision_tree = DecisionTreeClassifier(criterion = 'gini',max_depth = 6,random_state = 0)\n",
    "#decision_tree.fit(X_train,Y_train)\n",
    "\n",
    "#Y_pred = decision_tree.predict(X_train)\n",
    "\n",
    "#decision_tree_score_gi = accuracy_score(Y_train,Y_pred)\n",
    "#print (decision_tree_score_gi)"
   ]
  },
  {
   "cell_type": "code",
   "execution_count": 202,
   "metadata": {
    "collapsed": false
   },
   "outputs": [
    {
     "name": "stdout",
     "output_type": "stream",
     "text": [
      "0.985409652076\n"
     ]
    }
   ],
   "source": [
    "#Random Forests\n",
    "random_forest = RandomForestClassifier(criterion = 'entropy',n_estimators  = 100)\n",
    "random_forest.fit(X_train,Y_train)\n",
    "Y_pred = random_forest.predict(X_train)\n",
    "\n",
    "#print (Y_pred)\n",
    "#print (Y_train.values)\n",
    "\n",
    "random_forest_score = accuracy_score(Y_train,Y_pred)\n",
    "print (random_forest_score)\n",
    "\n",
    "Y_pred_test = random_forest.predict(X_test)\n",
    "#random_forest.score(X_train,Y_train)"
   ]
  },
  {
   "cell_type": "code",
   "execution_count": 203,
   "metadata": {
    "collapsed": false
   },
   "outputs": [],
   "source": [
    "#bagging\n",
    "\n",
    "#bag_tree = DecisionTreeClassifier(criterion = 'entropy',max_depth = None)\n",
    "#bag = BaggingClassifier(base_estimator = bag_tree,n_estimators = 100,max_samples = 1.0,max_features = 1.0,bootstrap = True,bootstrap_features = False,random_state = 1)\n",
    "#bag = bag.fit(X_train,Y_train)\n",
    "#Y_pred = bag.predict(X_train)\n",
    "\n",
    "#bag_score = accuracy_score(Y_train,Y_pred)\n",
    "#bag_score\n"
   ]
  },
  {
   "cell_type": "code",
   "execution_count": 204,
   "metadata": {
    "collapsed": false
   },
   "outputs": [],
   "source": [
    "#AdaBoost\n",
    "\n",
    "#ada_tree = DecisionTreeClassifier(criterion = 'entropy',max_depth = 1)\n",
    "#ada = AdaBoostClassifier(base_estimator = ada_tree,n_estimators = 500,learning_rate = 0.1,random_state = 0)\n",
    "\n",
    "#ada = ada.fit(X_train,Y_train)\n",
    "\n",
    "#Y_pred = ada.predict(X_train)\n",
    "\n",
    "#print (Y_pred)\n",
    "#print (Y_train)\n",
    "\n",
    "#ada_train_score = accuracy_score(Y_train,Y_pred)\n",
    "#ada_train_score"
   ]
  },
  {
   "cell_type": "code",
   "execution_count": 205,
   "metadata": {
    "collapsed": false
   },
   "outputs": [],
   "source": [
    "#alpha for regularization\n",
    "#mlp_classifier = MLPClassifier(solver = 'lbfgs',alpha = 1e-5,hidden_layer_sizes = (10,),random_state = 1)\n",
    "#mlp_classifier.fit(X_train_std,Y_train)\n",
    "#Y_pred = mlp_classifier.predict(X_train_std)\n",
    "\n",
    "#mlp_score = accuracy_score(Y_train,Y_pred)\n",
    "#mlp_score"
   ]
  },
  {
   "cell_type": "code",
   "execution_count": 206,
   "metadata": {
    "collapsed": false
   },
   "outputs": [],
   "source": [
    "#knn\n",
    "#knn = KNeighborsClassifier(n_neighbors = 5,p = 2,metric = 'minkowski')\n",
    "#knn.fit(X_train_std,Y_train)\n",
    "\n",
    "#Y_pred = knn.predict(X_train_std)\n",
    "#knn_score = accuracy_score(Y_train,Y_pred)\n",
    "#knn_score"
   ]
  },
  {
   "cell_type": "code",
   "execution_count": 207,
   "metadata": {
    "collapsed": false
   },
   "outputs": [],
   "source": [
    "#Gaussian Naive Bayes\n",
    "#gnb  = GaussianNB()\n",
    "#gnb.fit(X_train,Y_train)\n",
    "\n",
    "#Y_pred = gnb.predict(X_train)\n",
    "\n",
    "#gnb_score = accuracy_score(Y_train,Y_pred)\n",
    "#gnb_score"
   ]
  },
  {
   "cell_type": "code",
   "execution_count": 208,
   "metadata": {
    "collapsed": false
   },
   "outputs": [
    {
     "data": {
      "text/html": [
       "<div>\n",
       "<table border=\"1\" class=\"dataframe\">\n",
       "  <thead>\n",
       "    <tr style=\"text-align: right;\">\n",
       "      <th></th>\n",
       "      <th>Features</th>\n",
       "      <th>Coefficient Estimate</th>\n",
       "    </tr>\n",
       "  </thead>\n",
       "  <tbody>\n",
       "    <tr>\n",
       "      <th>0</th>\n",
       "      <td>Pclass</td>\n",
       "      <td>-0.896737</td>\n",
       "    </tr>\n",
       "    <tr>\n",
       "      <th>1</th>\n",
       "      <td>Age</td>\n",
       "      <td>-0.531269</td>\n",
       "    </tr>\n",
       "    <tr>\n",
       "      <th>2</th>\n",
       "      <td>SibSp</td>\n",
       "      <td>-0.345697</td>\n",
       "    </tr>\n",
       "    <tr>\n",
       "      <th>3</th>\n",
       "      <td>Parch</td>\n",
       "      <td>-0.072281</td>\n",
       "    </tr>\n",
       "    <tr>\n",
       "      <th>4</th>\n",
       "      <td>Fare</td>\n",
       "      <td>0.107666</td>\n",
       "    </tr>\n",
       "    <tr>\n",
       "      <th>5</th>\n",
       "      <td>C</td>\n",
       "      <td>0.083798</td>\n",
       "    </tr>\n",
       "    <tr>\n",
       "      <th>6</th>\n",
       "      <td>Q</td>\n",
       "      <td>0.039702</td>\n",
       "    </tr>\n",
       "    <tr>\n",
       "      <th>7</th>\n",
       "      <td>S</td>\n",
       "      <td>-0.098395</td>\n",
       "    </tr>\n",
       "    <tr>\n",
       "      <th>8</th>\n",
       "      <td>Gender</td>\n",
       "      <td>-1.289439</td>\n",
       "    </tr>\n",
       "  </tbody>\n",
       "</table>\n",
       "</div>"
      ],
      "text/plain": [
       "  Features  Coefficient Estimate\n",
       "0   Pclass             -0.896737\n",
       "1      Age             -0.531269\n",
       "2    SibSp             -0.345697\n",
       "3    Parch             -0.072281\n",
       "4     Fare              0.107666\n",
       "5        C              0.083798\n",
       "6        Q              0.039702\n",
       "7        S             -0.098395\n",
       "8   Gender             -1.289439"
      ]
     },
     "execution_count": 208,
     "metadata": {},
     "output_type": "execute_result"
    }
   ],
   "source": [
    "#get Correlation Coefficient for each feature using Logistic Regression\n",
    "coeff_df = DataFrame(titanic_df.columns.delete(0))\n",
    "coeff_df.columns = ['Features']\n",
    "coeff_df['Coefficient Estimate'] = pd.Series(logreg.coef_[0])\n",
    "\n",
    "#preview\n",
    "coeff_df"
   ]
  },
  {
   "cell_type": "code",
   "execution_count": 209,
   "metadata": {
    "collapsed": false
   },
   "outputs": [],
   "source": [
    "submission = pd.DataFrame({'PassengerId':test_df['PassengerId'],\n",
    "                           'Survived':Y_pred_test})\n",
    "submission.to_csv('titanic.csv',index = False)"
   ]
  }
 ],
 "metadata": {
  "anaconda-cloud": {},
  "kernelspec": {
   "display_name": "Python [default]",
   "language": "python",
   "name": "python3"
  },
  "language_info": {
   "codemirror_mode": {
    "name": "ipython",
    "version": 3
   },
   "file_extension": ".py",
   "mimetype": "text/x-python",
   "name": "python",
   "nbconvert_exporter": "python",
   "pygments_lexer": "ipython3",
   "version": "3.5.2"
  }
 },
 "nbformat": 4,
 "nbformat_minor": 1
}
