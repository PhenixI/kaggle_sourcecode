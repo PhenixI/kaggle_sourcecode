{
 "cells": [
  {
   "cell_type": "code",
   "execution_count": 1,
   "metadata": {
    "collapsed": true
   },
   "outputs": [],
   "source": [
    "import numpy as np\n",
    "import pandas as pd"
   ]
  },
  {
   "cell_type": "code",
   "execution_count": 2,
   "metadata": {
    "collapsed": true
   },
   "outputs": [],
   "source": [
    "from sklearn.ensemble import RandomForestClassifier,ExtraTreesRegressor"
   ]
  },
  {
   "cell_type": "code",
   "execution_count": 3,
   "metadata": {
    "collapsed": false
   },
   "outputs": [
    {
     "name": "stdout",
     "output_type": "stream",
     "text": [
      "Reading Data...\n"
     ]
    }
   ],
   "source": [
    "print ('Reading Data...')\n",
    "train_data = pd.read_csv('../input/train.csv',dtype = {'Age':np.float64},)\n",
    "test_data = pd.read_csv('../input/test.csv',dtype={'Age':np.float64},)"
   ]
  },
  {
   "cell_type": "code",
   "execution_count": 4,
   "metadata": {
    "collapsed": false
   },
   "outputs": [
    {
     "name": "stdout",
     "output_type": "stream",
     "text": [
      "Cleaning Data...\n"
     ]
    }
   ],
   "source": [
    "print ('Cleaning Data...')\n",
    "\n",
    "combined2 = pd.concat([train_data,test_data],axis = 0)\n",
    "combined2.Embarked.fillna('S',inplace = True)\n",
    "\n",
    "combined2.Fare.fillna(np.median(combined2.Fare[combined2.Fare.notnull()]),inplace = True)"
   ]
  },
  {
   "cell_type": "code",
   "execution_count": 5,
   "metadata": {
    "collapsed": false
   },
   "outputs": [],
   "source": [
    "import re\n",
    "def get_title(name):\n",
    "    #Use a regular expression to search for a title. Titles always consist of capital and lowercase \n",
    "    #letters , and end with a period\n",
    "    title_search = re.search(' ([A-Za-z]+)\\.',name)\n",
    "    #if the title exsits, extract and return it\n",
    "    if title_search:\n",
    "        return title_search.group(1)\n",
    "    return \"\"\n",
    "\n",
    "combined2['Title'] = combined2['Name'].apply(get_title)\n",
    "title_mapping = {'Mr':1,'Miss':2,'Mrs':3,'Master':4,'Dr':5,'Rev':6,'Major':7,'Col':7,'Mlle':8,\n",
    "                'Mme':8,'Don':7,'Dona':10,'Lady':10,'Countess':10,'Jonkheer':10,'Sir':7,'Capt':7,'Ms':2}\n",
    "combined2['TitleCat'] = combined2.loc[:,'Title'].map(title_mapping)"
   ]
  },
  {
   "cell_type": "code",
   "execution_count": 6,
   "metadata": {
    "collapsed": true
   },
   "outputs": [],
   "source": [
    "combined2['CabinCat']=pd.Categorical.from_array(combined2.Cabin.fillna('0').apply(lambda x:x[0])).codes\n",
    "combined2.Cabin.fillna('0',inplace = True)\n",
    "\n",
    "combined2['EmbarkedCat'] = pd.Categorical.from_array(combined2.Embarked).codes\n",
    "combined2.drop(['Ticket'],axis = 1,inplace = True)"
   ]
  },
  {
   "cell_type": "code",
   "execution_count": 7,
   "metadata": {
    "collapsed": false
   },
   "outputs": [
    {
     "name": "stdout",
     "output_type": "stream",
     "text": [
      "Consolidating Data...\n"
     ]
    }
   ],
   "source": [
    "print ('Consolidating Data...')\n",
    "full_data = pd.concat([combined2.drop(['Survived'],axis = 1),\n",
    "                      pd.get_dummies(combined2.Sex,prefix = 'Sex'),\n",
    "                      combined2.Survived],axis = 1)\n",
    "#full_data.head()"
   ]
  },
  {
   "cell_type": "code",
   "execution_count": 8,
   "metadata": {
    "collapsed": true
   },
   "outputs": [],
   "source": [
    "full_data['FamilySize'] = full_data['SibSp']+full_data['Parch']\n",
    "full_data['NameLength'] = full_data.Name.apply(lambda x:len(x))"
   ]
  },
  {
   "cell_type": "code",
   "execution_count": 9,
   "metadata": {
    "collapsed": true
   },
   "outputs": [],
   "source": [
    "\n",
    "import operator\n",
    "family_id_mapping = {}\n",
    "def get_family_id(row):\n",
    "    last_name = row['Name'].split(',')[0]\n",
    "    family_id = '{0}{1}'.format(last_name,row['FamilySize'])\n",
    "    \n",
    "    if family_id not in family_id_mapping:\n",
    "        if len(family_id_mapping) == 0:\n",
    "            current_id = 1\n",
    "        else:\n",
    "            current_id = (max(family_id_mapping.items(),key = operator.itemgetter(1))[1]+1)\n",
    "        family_id_mapping[family_id] = current_id\n",
    "    return family_id_mapping[family_id]\n",
    "\n",
    "family_ids = full_data.apply(get_family_id,axis = 1)\n",
    "#There are a lot of family ids , so we 'll compress all of the families under 3 members into one code\n",
    "\n",
    "family_ids[full_data['FamilySize']<3] = -1\n",
    "full_data[\"FamilyId\"] = family_ids         "
   ]
  },
  {
   "cell_type": "code",
   "execution_count": 10,
   "metadata": {
    "collapsed": false
   },
   "outputs": [],
   "source": [
    "###Person Label\n",
    "child_age = 14\n",
    "def get_person(passenger):\n",
    "    age,sex = passenger\n",
    "    if(age<child_age):\n",
    "        return 'child'\n",
    "    elif (sex == 'female'):\n",
    "        return 'female_adult'\n",
    "    else:\n",
    "        return 'male_adult'\n",
    "\n",
    "full_data = pd.concat([full_data,pd.DataFrame(full_data[['Age','Sex']].apply(get_person,axis = 1),columns=['person'])],axis = 1)\n",
    "dummies = pd.get_dummies(full_data['person'])\n",
    "full_data = pd.concat([full_data,dummies],axis = 1)"
   ]
  },
  {
   "cell_type": "code",
   "execution_count": 11,
   "metadata": {
    "collapsed": true
   },
   "outputs": [],
   "source": [
    "def process_surname(nm):\n",
    "    return nm.split(',')[0].lower()\n",
    "\n",
    "full_data['surname'] = full_data['Name'].apply(process_surname)"
   ]
  },
  {
   "cell_type": "code",
   "execution_count": 12,
   "metadata": {
    "collapsed": false
   },
   "outputs": [
    {
     "data": {
      "text/html": [
       "<div>\n",
       "<table border=\"1\" class=\"dataframe\">\n",
       "  <thead>\n",
       "    <tr style=\"text-align: right;\">\n",
       "      <th></th>\n",
       "      <th>Age</th>\n",
       "      <th>Cabin</th>\n",
       "      <th>Embarked</th>\n",
       "      <th>Fare</th>\n",
       "      <th>Name</th>\n",
       "      <th>Parch</th>\n",
       "      <th>PassengerId</th>\n",
       "      <th>Pclass</th>\n",
       "      <th>Sex</th>\n",
       "      <th>SibSp</th>\n",
       "      <th>...</th>\n",
       "      <th>FamilySize</th>\n",
       "      <th>NameLength</th>\n",
       "      <th>FamilyId</th>\n",
       "      <th>person</th>\n",
       "      <th>child</th>\n",
       "      <th>female_adult</th>\n",
       "      <th>male_adult</th>\n",
       "      <th>surname</th>\n",
       "      <th>perishing_mother_wife</th>\n",
       "      <th>surviving_father_husband</th>\n",
       "    </tr>\n",
       "  </thead>\n",
       "  <tbody>\n",
       "    <tr>\n",
       "      <th>0</th>\n",
       "      <td>22.0</td>\n",
       "      <td>0</td>\n",
       "      <td>S</td>\n",
       "      <td>7.2500</td>\n",
       "      <td>Braund, Mr. Owen Harris</td>\n",
       "      <td>0</td>\n",
       "      <td>1</td>\n",
       "      <td>3</td>\n",
       "      <td>male</td>\n",
       "      <td>1</td>\n",
       "      <td>...</td>\n",
       "      <td>1</td>\n",
       "      <td>23</td>\n",
       "      <td>-1</td>\n",
       "      <td>male_adult</td>\n",
       "      <td>0.0</td>\n",
       "      <td>0.0</td>\n",
       "      <td>1.0</td>\n",
       "      <td>braund</td>\n",
       "      <td>0.0</td>\n",
       "      <td>0.0</td>\n",
       "    </tr>\n",
       "    <tr>\n",
       "      <th>1</th>\n",
       "      <td>38.0</td>\n",
       "      <td>C85</td>\n",
       "      <td>C</td>\n",
       "      <td>71.2833</td>\n",
       "      <td>Cumings, Mrs. John Bradley (Florence Briggs Th...</td>\n",
       "      <td>0</td>\n",
       "      <td>2</td>\n",
       "      <td>1</td>\n",
       "      <td>female</td>\n",
       "      <td>1</td>\n",
       "      <td>...</td>\n",
       "      <td>1</td>\n",
       "      <td>51</td>\n",
       "      <td>-1</td>\n",
       "      <td>female_adult</td>\n",
       "      <td>0.0</td>\n",
       "      <td>1.0</td>\n",
       "      <td>0.0</td>\n",
       "      <td>cumings</td>\n",
       "      <td>0.0</td>\n",
       "      <td>0.0</td>\n",
       "    </tr>\n",
       "    <tr>\n",
       "      <th>2</th>\n",
       "      <td>26.0</td>\n",
       "      <td>0</td>\n",
       "      <td>S</td>\n",
       "      <td>7.9250</td>\n",
       "      <td>Heikkinen, Miss. Laina</td>\n",
       "      <td>0</td>\n",
       "      <td>3</td>\n",
       "      <td>3</td>\n",
       "      <td>female</td>\n",
       "      <td>0</td>\n",
       "      <td>...</td>\n",
       "      <td>0</td>\n",
       "      <td>22</td>\n",
       "      <td>-1</td>\n",
       "      <td>female_adult</td>\n",
       "      <td>0.0</td>\n",
       "      <td>1.0</td>\n",
       "      <td>0.0</td>\n",
       "      <td>heikkinen</td>\n",
       "      <td>0.0</td>\n",
       "      <td>0.0</td>\n",
       "    </tr>\n",
       "    <tr>\n",
       "      <th>3</th>\n",
       "      <td>35.0</td>\n",
       "      <td>C123</td>\n",
       "      <td>S</td>\n",
       "      <td>53.1000</td>\n",
       "      <td>Futrelle, Mrs. Jacques Heath (Lily May Peel)</td>\n",
       "      <td>0</td>\n",
       "      <td>4</td>\n",
       "      <td>1</td>\n",
       "      <td>female</td>\n",
       "      <td>1</td>\n",
       "      <td>...</td>\n",
       "      <td>1</td>\n",
       "      <td>44</td>\n",
       "      <td>-1</td>\n",
       "      <td>female_adult</td>\n",
       "      <td>0.0</td>\n",
       "      <td>1.0</td>\n",
       "      <td>0.0</td>\n",
       "      <td>futrelle</td>\n",
       "      <td>0.0</td>\n",
       "      <td>0.0</td>\n",
       "    </tr>\n",
       "    <tr>\n",
       "      <th>4</th>\n",
       "      <td>35.0</td>\n",
       "      <td>0</td>\n",
       "      <td>S</td>\n",
       "      <td>8.0500</td>\n",
       "      <td>Allen, Mr. William Henry</td>\n",
       "      <td>0</td>\n",
       "      <td>5</td>\n",
       "      <td>3</td>\n",
       "      <td>male</td>\n",
       "      <td>0</td>\n",
       "      <td>...</td>\n",
       "      <td>0</td>\n",
       "      <td>24</td>\n",
       "      <td>-1</td>\n",
       "      <td>male_adult</td>\n",
       "      <td>0.0</td>\n",
       "      <td>0.0</td>\n",
       "      <td>1.0</td>\n",
       "      <td>allen</td>\n",
       "      <td>0.0</td>\n",
       "      <td>0.0</td>\n",
       "    </tr>\n",
       "  </tbody>\n",
       "</table>\n",
       "<p>5 rows × 27 columns</p>\n",
       "</div>"
      ],
      "text/plain": [
       "    Age Cabin Embarked     Fare  \\\n",
       "0  22.0     0        S   7.2500   \n",
       "1  38.0   C85        C  71.2833   \n",
       "2  26.0     0        S   7.9250   \n",
       "3  35.0  C123        S  53.1000   \n",
       "4  35.0     0        S   8.0500   \n",
       "\n",
       "                                                Name  Parch  PassengerId  \\\n",
       "0                            Braund, Mr. Owen Harris      0            1   \n",
       "1  Cumings, Mrs. John Bradley (Florence Briggs Th...      0            2   \n",
       "2                             Heikkinen, Miss. Laina      0            3   \n",
       "3       Futrelle, Mrs. Jacques Heath (Lily May Peel)      0            4   \n",
       "4                           Allen, Mr. William Henry      0            5   \n",
       "\n",
       "   Pclass     Sex  SibSp            ...            FamilySize  NameLength  \\\n",
       "0       3    male      1            ...                     1          23   \n",
       "1       1  female      1            ...                     1          51   \n",
       "2       3  female      0            ...                     0          22   \n",
       "3       1  female      1            ...                     1          44   \n",
       "4       3    male      0            ...                     0          24   \n",
       "\n",
       "   FamilyId        person  child  female_adult  male_adult    surname  \\\n",
       "0        -1    male_adult    0.0           0.0         1.0     braund   \n",
       "1        -1  female_adult    0.0           1.0         0.0    cumings   \n",
       "2        -1  female_adult    0.0           1.0         0.0  heikkinen   \n",
       "3        -1  female_adult    0.0           1.0         0.0   futrelle   \n",
       "4        -1    male_adult    0.0           0.0         1.0      allen   \n",
       "\n",
       "   perishing_mother_wife  surviving_father_husband  \n",
       "0                    0.0                       0.0  \n",
       "1                    0.0                       0.0  \n",
       "2                    0.0                       0.0  \n",
       "3                    0.0                       0.0  \n",
       "4                    0.0                       0.0  \n",
       "\n",
       "[5 rows x 27 columns]"
      ]
     },
     "execution_count": 12,
     "metadata": {},
     "output_type": "execute_result"
    }
   ],
   "source": [
    "###Persihing Females\n",
    "perishing_female_surnames = list(set(full_data[(full_data.female_adult==1.0) & (full_data.Survived == 0.0) & ((full_data.Parch>0) | (full_data.SibSp>0))]['surname'].values))\n",
    "\n",
    "def perishing_mother_wife(passenger):\n",
    "    surname,Pclass,person = passenger\n",
    "    return 1.0 if (surname in perishing_female_surnames) else 0.0\n",
    "\n",
    "full_data['perishing_mother_wife'] = full_data[['surname','Pclass','person']].apply(perishing_mother_wife,axis = 1)\n",
    "\n",
    "###Surviving Males\n",
    "surviving_male_surnames = list(set(full_data[(full_data.male_adult == 1.0) & \n",
    "                                             (full_data.Survived == 1.0) & \n",
    "                                            ((full_data.Parch > 0) | (full_data.SibSp>0))]['surname'].values))\n",
    "\n",
    "def surviving_father_husband(passenger):\n",
    "    surname,Pclass,person = passenger\n",
    "    return 1.0 if (surname in surviving_male_surnames) else 0.0\n",
    "\n",
    "full_data['surviving_father_husband'] = full_data[['surname','Pclass','person']].apply(surviving_father_husband,axis = 1)\n",
    "\n",
    "full_data.head()"
   ]
  },
  {
   "cell_type": "code",
   "execution_count": 13,
   "metadata": {
    "collapsed": false
   },
   "outputs": [
    {
     "name": "stdout",
     "output_type": "stream",
     "text": [
      "Imputing Data...\n"
     ]
    }
   ],
   "source": [
    "#Age Impute Location\n",
    "print ('Imputing Data...')\n",
    "\n",
    "classers = ['Fare','Parch','Pclass','SibSp','TitleCat','CabinCat','Sex_female','Sex_male','EmbarkedCat','FamilySize','NameLength','FamilyId']\n",
    "age_et = ExtraTreesRegressor(n_estimators = 200)\n",
    "X_train = full_data.loc[full_data.Age.notnull(),classers]\n",
    "Y_train = full_data.loc[full_data.Age.notnull(),['Age']]\n",
    "X_test = full_data.loc[full_data.Age.isnull(),classers]\n",
    "age_et.fit(X_train,np.ravel(Y_train))\n",
    "age_preds = age_et.predict(X_test)\n",
    "\n",
    "full_data.loc[full_data.Age.isnull(),['Age']] =age_preds"
   ]
  },
  {
   "cell_type": "code",
   "execution_count": 14,
   "metadata": {
    "collapsed": false
   },
   "outputs": [],
   "source": [
    "\n",
    "###Model Build - Random Forest (Categorical Features)\n",
    "model_dummys = ['Age','male_adult','female_adult','child','perishing_mother_wife','surviving_father_husband','Fare','Parch','Pclass','SibSp',\n",
    "                 'TitleCat','CabinCat','Sex_female','Sex_male','EmbarkedCat','FamilySize','NameLength','FamilyId']\n",
    "\n",
    "X_data = full_data.iloc[:891,:]\n",
    "X_train_1 = X_data.loc[:,model_dummys]\n",
    "\n",
    "Y_data = full_data.iloc[:891,:]\n",
    "Y_train_1 = Y_data.loc[:,['Survived']]\n",
    "\n",
    "#train_valid_split\n",
    "#from sklearn.cross_validation import train_test_split\n",
    "#X_train_s,X_valid,Y_train_s,Y_valid = train_test_split(X_train,Y_train,test_size = 0.2,random_state = 1)\n"
   ]
  },
  {
   "cell_type": "code",
   "execution_count": 15,
   "metadata": {
    "collapsed": false
   },
   "outputs": [
    {
     "data": {
      "text/html": [
       "<div>\n",
       "<table border=\"1\" class=\"dataframe\">\n",
       "  <thead>\n",
       "    <tr style=\"text-align: right;\">\n",
       "      <th></th>\n",
       "      <th>Age</th>\n",
       "      <th>male_adult</th>\n",
       "      <th>female_adult</th>\n",
       "      <th>child</th>\n",
       "      <th>perishing_mother_wife</th>\n",
       "      <th>surviving_father_husband</th>\n",
       "      <th>Fare</th>\n",
       "      <th>Parch</th>\n",
       "      <th>Pclass</th>\n",
       "      <th>SibSp</th>\n",
       "      <th>TitleCat</th>\n",
       "      <th>CabinCat</th>\n",
       "      <th>Sex_female</th>\n",
       "      <th>Sex_male</th>\n",
       "      <th>EmbarkedCat</th>\n",
       "      <th>FamilySize</th>\n",
       "      <th>NameLength</th>\n",
       "      <th>FamilyId</th>\n",
       "    </tr>\n",
       "  </thead>\n",
       "  <tbody>\n",
       "    <tr>\n",
       "      <th>0</th>\n",
       "      <td>22.0</td>\n",
       "      <td>1.0</td>\n",
       "      <td>0.0</td>\n",
       "      <td>0.0</td>\n",
       "      <td>0.0</td>\n",
       "      <td>0.0</td>\n",
       "      <td>7.2500</td>\n",
       "      <td>0</td>\n",
       "      <td>3</td>\n",
       "      <td>1</td>\n",
       "      <td>1</td>\n",
       "      <td>0</td>\n",
       "      <td>0.0</td>\n",
       "      <td>1.0</td>\n",
       "      <td>2</td>\n",
       "      <td>1</td>\n",
       "      <td>23</td>\n",
       "      <td>-1</td>\n",
       "    </tr>\n",
       "    <tr>\n",
       "      <th>1</th>\n",
       "      <td>38.0</td>\n",
       "      <td>0.0</td>\n",
       "      <td>1.0</td>\n",
       "      <td>0.0</td>\n",
       "      <td>0.0</td>\n",
       "      <td>0.0</td>\n",
       "      <td>71.2833</td>\n",
       "      <td>0</td>\n",
       "      <td>1</td>\n",
       "      <td>1</td>\n",
       "      <td>3</td>\n",
       "      <td>3</td>\n",
       "      <td>1.0</td>\n",
       "      <td>0.0</td>\n",
       "      <td>0</td>\n",
       "      <td>1</td>\n",
       "      <td>51</td>\n",
       "      <td>-1</td>\n",
       "    </tr>\n",
       "    <tr>\n",
       "      <th>2</th>\n",
       "      <td>26.0</td>\n",
       "      <td>0.0</td>\n",
       "      <td>1.0</td>\n",
       "      <td>0.0</td>\n",
       "      <td>0.0</td>\n",
       "      <td>0.0</td>\n",
       "      <td>7.9250</td>\n",
       "      <td>0</td>\n",
       "      <td>3</td>\n",
       "      <td>0</td>\n",
       "      <td>2</td>\n",
       "      <td>0</td>\n",
       "      <td>1.0</td>\n",
       "      <td>0.0</td>\n",
       "      <td>2</td>\n",
       "      <td>0</td>\n",
       "      <td>22</td>\n",
       "      <td>-1</td>\n",
       "    </tr>\n",
       "    <tr>\n",
       "      <th>3</th>\n",
       "      <td>35.0</td>\n",
       "      <td>0.0</td>\n",
       "      <td>1.0</td>\n",
       "      <td>0.0</td>\n",
       "      <td>0.0</td>\n",
       "      <td>0.0</td>\n",
       "      <td>53.1000</td>\n",
       "      <td>0</td>\n",
       "      <td>1</td>\n",
       "      <td>1</td>\n",
       "      <td>3</td>\n",
       "      <td>3</td>\n",
       "      <td>1.0</td>\n",
       "      <td>0.0</td>\n",
       "      <td>2</td>\n",
       "      <td>1</td>\n",
       "      <td>44</td>\n",
       "      <td>-1</td>\n",
       "    </tr>\n",
       "    <tr>\n",
       "      <th>4</th>\n",
       "      <td>35.0</td>\n",
       "      <td>1.0</td>\n",
       "      <td>0.0</td>\n",
       "      <td>0.0</td>\n",
       "      <td>0.0</td>\n",
       "      <td>0.0</td>\n",
       "      <td>8.0500</td>\n",
       "      <td>0</td>\n",
       "      <td>3</td>\n",
       "      <td>0</td>\n",
       "      <td>1</td>\n",
       "      <td>0</td>\n",
       "      <td>0.0</td>\n",
       "      <td>1.0</td>\n",
       "      <td>2</td>\n",
       "      <td>0</td>\n",
       "      <td>24</td>\n",
       "      <td>-1</td>\n",
       "    </tr>\n",
       "  </tbody>\n",
       "</table>\n",
       "</div>"
      ],
      "text/plain": [
       "    Age  male_adult  female_adult  child  perishing_mother_wife  \\\n",
       "0  22.0         1.0           0.0    0.0                    0.0   \n",
       "1  38.0         0.0           1.0    0.0                    0.0   \n",
       "2  26.0         0.0           1.0    0.0                    0.0   \n",
       "3  35.0         0.0           1.0    0.0                    0.0   \n",
       "4  35.0         1.0           0.0    0.0                    0.0   \n",
       "\n",
       "   surviving_father_husband     Fare  Parch  Pclass  SibSp  TitleCat  \\\n",
       "0                       0.0   7.2500      0       3      1         1   \n",
       "1                       0.0  71.2833      0       1      1         3   \n",
       "2                       0.0   7.9250      0       3      0         2   \n",
       "3                       0.0  53.1000      0       1      1         3   \n",
       "4                       0.0   8.0500      0       3      0         1   \n",
       "\n",
       "   CabinCat  Sex_female  Sex_male  EmbarkedCat  FamilySize  NameLength  \\\n",
       "0         0         0.0       1.0            2           1          23   \n",
       "1         3         1.0       0.0            0           1          51   \n",
       "2         0         1.0       0.0            2           0          22   \n",
       "3         3         1.0       0.0            2           1          44   \n",
       "4         0         0.0       1.0            2           0          24   \n",
       "\n",
       "   FamilyId  \n",
       "0        -1  \n",
       "1        -1  \n",
       "2        -1  \n",
       "3        -1  \n",
       "4        -1  "
      ]
     },
     "execution_count": 15,
     "metadata": {},
     "output_type": "execute_result"
    }
   ],
   "source": [
    "X_train_1.head()"
   ]
  },
  {
   "cell_type": "code",
   "execution_count": null,
   "metadata": {
    "collapsed": false
   },
   "outputs": [
    {
     "name": "stdout",
     "output_type": "stream",
     "text": [
      "Building Model...\n"
     ]
    }
   ],
   "source": [
    "from sklearn.model_selection import GridSearchCV,cross_val_score\n",
    "print ('Building Model...')\n",
    "parameters = {'criterion':('entropy','gini'),'max_features':('sqrt','log2',None)}\n",
    "model_rf = RandomForestClassifier(n_estimators = 30000,min_samples_leaf = 4,class_weight = {0:0.745,1:0.255})\n",
    "clf = GridSearchCV(estimator = model_rf,param_grid = parameters,scoring='accuracy',cv = 5,n_jobs = -1)\n",
    "\n",
    "scores = cross_val_score(clf,X_train_1,np.ravel(Y_train_1),scoring = \"accuracy\",cv = 5)\n",
    "\n",
    "print (\"CV accuracy : %.3f +/- %.3f\" % (np.mean(scores),np.std(scores)))\n",
    "\n",
    "#dtype(X_train)\n",
    "#X_train_1.describe()\n",
    "#Y_train_1.describe()\n",
    "#print len(Y_train)\n",
    "#clf = clf.fit(X_train_1,Y_train_1['Survived'])\n",
    "\n",
    "print (clf.best_score_)\n",
    "print (clf.best_params_)\n",
    "#model_rf.get_params()\n"
   ]
  },
  {
   "cell_type": "code",
   "execution_count": 58,
   "metadata": {
    "collapsed": false
   },
   "outputs": [
    {
     "name": "stdout",
     "output_type": "stream",
     "text": [
      "Building Model...\n",
      "Generating Predictions...\n",
      "Processing Submission File...\n",
      "Done.\n"
     ]
    }
   ],
   "source": [
    "#test\n",
    "X_t_data = full_data.iloc[891:,:]\n",
    "X_test = X_t_data.loc[:,model_dummys]\n",
    "\n",
    "model_rf = RandomForestClassifier(n_estimators = 30000,min_samples_leaf = 4,class_weight = {0:0.745,1:0.255})\n",
    "model_rf.fit(X_train,np.ravel(Y_train))\n",
    "\n",
    "print('Generating Predictions...')\n",
    "\n",
    "model_results = model_rf.predict(X_test)\n",
    "\n",
    "print('Processing Submission File...')\n",
    "\n",
    "model_results = [str(int(x)) for x in model_results]\n",
    "submission = pd.DataFrame()\n",
    "submission['PassengerId'] = X_t_data.PassengerId\n",
    "submission['Survived'] = model_results\n",
    "submission.set_index(['PassengerId'],inplace = True,drop = True)\n",
    "submission.head(3)\n",
    "submission.to_csv('titanic_submission_1.csv')\n",
    "\n",
    "print ('Done.')"
   ]
  },
  {
   "cell_type": "code",
   "execution_count": 59,
   "metadata": {
    "collapsed": false
   },
   "outputs": [
    {
     "data": {
      "text/plain": [
       "0.90011223344556679"
      ]
     },
     "execution_count": 59,
     "metadata": {},
     "output_type": "execute_result"
    }
   ],
   "source": [
    "from sklearn.metrics import accuracy_score\n",
    "\n",
    "Y_train_predict = model_rf.predict(X_train)\n",
    "random_forest_score = accuracy_score(Y_train,Y_train_predict)\n",
    "\n",
    "random_forest_score"
   ]
  },
  {
   "cell_type": "code",
   "execution_count": null,
   "metadata": {
    "collapsed": true
   },
   "outputs": [],
   "source": [
    "from sklearn.preprocessing import StandardScaler\n",
    "scalar = StandardScaler()\n",
    "scalar.fit(X_train)\n",
    "X_train_std = scalar.transform(X_train)\n",
    "X_test_std = scalar.transform(X_test)"
   ]
  },
  {
   "cell_type": "code",
   "execution_count": 62,
   "metadata": {
    "collapsed": false
   },
   "outputs": [
    {
     "name": "stderr",
     "output_type": "stream",
     "text": [
      "C:\\Program Files\\Anaconda3\\lib\\site-packages\\sklearn\\neural_network\\multilayer_perceptron.py:904: DataConversionWarning: A column-vector y was passed when a 1d array was expected. Please change the shape of y to (n_samples, ), for example using ravel().\n",
      "  y = column_or_1d(y, warn=True)\n"
     ]
    },
    {
     "data": {
      "text/plain": [
       "0.94500561167227837"
      ]
     },
     "execution_count": 62,
     "metadata": {},
     "output_type": "execute_result"
    }
   ],
   "source": [
    "from sklearn.neural_network import MLPClassifier\n",
    "\n",
    "mlp_classifier = MLPClassifier(solver = 'lbfgs',alpha = 1e-5,hidden_layer_sizes=(15,),random_state = 1)\n",
    "mlp_classifier.fit(X_train_std,Y_train)\n",
    "\n",
    "Y_train_predict = mlp_classifier.predict(X_train_std)\n",
    "mlp_forest_score = accuracy_score(Y_train,Y_train_predict)\n",
    "\n",
    "#Y_train_predict\n",
    "mlp_forest_score"
   ]
  },
  {
   "cell_type": "code",
   "execution_count": null,
   "metadata": {
    "collapsed": true
   },
   "outputs": [],
   "source": []
  }
 ],
 "metadata": {
  "anaconda-cloud": {},
  "kernelspec": {
   "display_name": "Python [default]",
   "language": "python",
   "name": "python3"
  },
  "language_info": {
   "codemirror_mode": {
    "name": "ipython",
    "version": 3
   },
   "file_extension": ".py",
   "mimetype": "text/x-python",
   "name": "python",
   "nbconvert_exporter": "python",
   "pygments_lexer": "ipython3",
   "version": "3.5.2"
  }
 },
 "nbformat": 4,
 "nbformat_minor": 1
}
