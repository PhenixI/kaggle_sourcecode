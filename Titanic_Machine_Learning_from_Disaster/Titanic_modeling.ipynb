{
 "cells": [
  {
   "cell_type": "code",
   "execution_count": 18,
   "metadata": {
    "collapsed": true
   },
   "outputs": [],
   "source": [
    "import numpy as np\n",
    "import pandas as pd"
   ]
  },
  {
   "cell_type": "code",
   "execution_count": 19,
   "metadata": {
    "collapsed": false
   },
   "outputs": [
    {
     "name": "stdout",
     "output_type": "stream",
     "text": [
      "Reading Data...\n"
     ]
    }
   ],
   "source": [
    "print ('Reading Data...')\n",
    "train_data = pd.read_csv('../input/train.csv',dtype = {'Age':np.float64},)\n",
    "test_data = pd.read_csv('../input/train.csv',dtype={'Age':np.float64},)"
   ]
  },
  {
   "cell_type": "code",
   "execution_count": 20,
   "metadata": {
    "collapsed": false
   },
   "outputs": [
    {
     "name": "stdout",
     "output_type": "stream",
     "text": [
      "Cleaning Data...\n"
     ]
    }
   ],
   "source": [
    "print ('Cleaning Data...')\n",
    "\n",
    "combined2 = pd.concat([train_data,test_data],axis = 0)\n",
    "combined2.Embarked.fillna('S',inplace = True)\n",
    "\n",
    "combined2.Fare.fillna(np.median(combined2.Fare[combined2.Fare.notnull()]),inplace = True)"
   ]
  },
  {
   "cell_type": "code",
   "execution_count": 21,
   "metadata": {
    "collapsed": false
   },
   "outputs": [],
   "source": [
    "import re\n",
    "def get_title(name):\n",
    "    #Use a regular expression to search for a title. Titles always consist of capital and lowercase \n",
    "    #letters , and end with a period\n",
    "    title_search = re.search(' ([A-Za-z]+)\\.',name)\n",
    "    #if the title exsits, extract and return it\n",
    "    if title_search:\n",
    "        return title_search.group(1)\n",
    "    return \"\"\n",
    "\n",
    "combined2['Title'] = combined2['Name'].apply(get_title)\n",
    "title_mapping = {'Mr':1,'Miss':2,'Mrs':3,'Master':4,'Dr':5,'Rev':6,'Major':7,'Col':7,'Mlle':8,\n",
    "                'Mme':8,'Don':7,'Dona':10,'Lady':10,'Countess':10,'Jonkheer':10,'Sir':7,'Capt':7,'Ms':2}\n",
    "combined2['TitleCat'] = combined2.loc[:,'Title'].map(title_mapping)"
   ]
  },
  {
   "cell_type": "code",
   "execution_count": 22,
   "metadata": {
    "collapsed": true
   },
   "outputs": [],
   "source": [
    "combined2['CabinCat']=pd.Categorical.from_array(combined2.Cabin.fillna('0').apply(lambda x:x[0])).codes\n",
    "combined2.Cabin.fillna('0',inplace = True)\n",
    "\n",
    "combined2['EmbarkedCat'] = pd.Categorical.from_array(combined2.Embarked).codes\n",
    "combined2.drop(['Ticket'],axis = 1,inplace = True)"
   ]
  },
  {
   "cell_type": "code",
   "execution_count": 23,
   "metadata": {
    "collapsed": false
   },
   "outputs": [
    {
     "name": "stdout",
     "output_type": "stream",
     "text": [
      "Consolidating Data...\n"
     ]
    }
   ],
   "source": [
    "print ('Consolidating Data...')\n",
    "full_data = pd.concat([combined2.drop(['Survived'],axis = 1),\n",
    "                      pd.get_dummies(combined2.Sex,prefix = 'Sex'),\n",
    "                      combined2.Survived],axis = 1)\n",
    "#full_data.head()"
   ]
  },
  {
   "cell_type": "code",
   "execution_count": 24,
   "metadata": {
    "collapsed": true
   },
   "outputs": [],
   "source": [
    "full_data['FamilySize'] = full_data['SibSp']+full_data['Parch']\n",
    "full_data['NameLength'] = full_data.Name.apply(lambda x:len(x))"
   ]
  },
  {
   "cell_type": "code",
   "execution_count": 25,
   "metadata": {
    "collapsed": true
   },
   "outputs": [],
   "source": [
    "\n",
    "import operator\n",
    "family_id_mapping = {}\n",
    "def get_family_id(row):\n",
    "    last_name = row['Name'].split(',')[0]\n",
    "    family_id = '{0}{1}'.format(last_name,row['FamilySize'])\n",
    "    \n",
    "    if family_id not in family_id_mapping:\n",
    "        if len(family_id_mapping) == 0:\n",
    "            current_id = 1\n",
    "        else:\n",
    "            current_id = (max(family_id_mapping.items(),key = operator.itemgetter(1))[1]+1)\n",
    "        family_id_mapping[family_id] = current_id\n",
    "    return family_id_mapping[family_id]\n",
    "\n",
    "family_ids = full_data.apply(get_family_id,axis = 1)\n",
    "#There are a lot of family ids , so we 'll compress all of the families under 3 members into one code\n",
    "\n",
    "family_ids[full_data['FamilySize']<3] = -1\n",
    "full_data[\"FamilyId\"] = family_ids         "
   ]
  },
  {
   "cell_type": "code",
   "execution_count": 27,
   "metadata": {
    "collapsed": false
   },
   "outputs": [],
   "source": [
    "###Person Label\n",
    "child_age = 14\n",
    "def get_person(passenger):\n",
    "    age,sex = passenger\n",
    "    if(age<child_age):\n",
    "        return 'child'\n",
    "    elif (sex == 'female'):\n",
    "        return 'female_adult'\n",
    "    else:\n",
    "        return 'male_adult'\n",
    "\n",
    "full_data = pd.concat([full_data,pd.DataFrame(full_data[['Age','Sex']].apply(get_person,axis = 1),columns=['person'])],axis = 1)\n",
    "dummies = pd.get_dummies(full_data['person'])\n",
    "full_data = pd.concat([full_data,dummies],axis = 1)"
   ]
  },
  {
   "cell_type": "code",
   "execution_count": 28,
   "metadata": {
    "collapsed": true
   },
   "outputs": [],
   "source": [
    "def process_surname(nm):\n",
    "    return nm.split(',')[0].lower()\n",
    "\n",
    "full_data['surname'] = full_data['Name'].apply(process_surname)"
   ]
  },
  {
   "cell_type": "code",
   "execution_count": 29,
   "metadata": {
    "collapsed": false
   },
   "outputs": [
    {
     "data": {
      "text/html": [
       "<div>\n",
       "<table border=\"1\" class=\"dataframe\">\n",
       "  <thead>\n",
       "    <tr style=\"text-align: right;\">\n",
       "      <th></th>\n",
       "      <th>PassengerId</th>\n",
       "      <th>Pclass</th>\n",
       "      <th>Name</th>\n",
       "      <th>Sex</th>\n",
       "      <th>Age</th>\n",
       "      <th>SibSp</th>\n",
       "      <th>Parch</th>\n",
       "      <th>Fare</th>\n",
       "      <th>Cabin</th>\n",
       "      <th>Embarked</th>\n",
       "      <th>...</th>\n",
       "      <th>FamilySize</th>\n",
       "      <th>NameLength</th>\n",
       "      <th>FamilyId</th>\n",
       "      <th>person</th>\n",
       "      <th>child</th>\n",
       "      <th>female_adult</th>\n",
       "      <th>male_adult</th>\n",
       "      <th>surname</th>\n",
       "      <th>perishing_mother_wife</th>\n",
       "      <th>surviving_father_husband</th>\n",
       "    </tr>\n",
       "  </thead>\n",
       "  <tbody>\n",
       "    <tr>\n",
       "      <th>0</th>\n",
       "      <td>1</td>\n",
       "      <td>3</td>\n",
       "      <td>Braund, Mr. Owen Harris</td>\n",
       "      <td>male</td>\n",
       "      <td>22.0</td>\n",
       "      <td>1</td>\n",
       "      <td>0</td>\n",
       "      <td>7.2500</td>\n",
       "      <td>0</td>\n",
       "      <td>S</td>\n",
       "      <td>...</td>\n",
       "      <td>1</td>\n",
       "      <td>23</td>\n",
       "      <td>-1</td>\n",
       "      <td>male_adult</td>\n",
       "      <td>0.0</td>\n",
       "      <td>0.0</td>\n",
       "      <td>1.0</td>\n",
       "      <td>braund</td>\n",
       "      <td>0.0</td>\n",
       "      <td>0.0</td>\n",
       "    </tr>\n",
       "    <tr>\n",
       "      <th>1</th>\n",
       "      <td>2</td>\n",
       "      <td>1</td>\n",
       "      <td>Cumings, Mrs. John Bradley (Florence Briggs Th...</td>\n",
       "      <td>female</td>\n",
       "      <td>38.0</td>\n",
       "      <td>1</td>\n",
       "      <td>0</td>\n",
       "      <td>71.2833</td>\n",
       "      <td>C85</td>\n",
       "      <td>C</td>\n",
       "      <td>...</td>\n",
       "      <td>1</td>\n",
       "      <td>51</td>\n",
       "      <td>-1</td>\n",
       "      <td>female_adult</td>\n",
       "      <td>0.0</td>\n",
       "      <td>1.0</td>\n",
       "      <td>0.0</td>\n",
       "      <td>cumings</td>\n",
       "      <td>0.0</td>\n",
       "      <td>0.0</td>\n",
       "    </tr>\n",
       "    <tr>\n",
       "      <th>2</th>\n",
       "      <td>3</td>\n",
       "      <td>3</td>\n",
       "      <td>Heikkinen, Miss. Laina</td>\n",
       "      <td>female</td>\n",
       "      <td>26.0</td>\n",
       "      <td>0</td>\n",
       "      <td>0</td>\n",
       "      <td>7.9250</td>\n",
       "      <td>0</td>\n",
       "      <td>S</td>\n",
       "      <td>...</td>\n",
       "      <td>0</td>\n",
       "      <td>22</td>\n",
       "      <td>-1</td>\n",
       "      <td>female_adult</td>\n",
       "      <td>0.0</td>\n",
       "      <td>1.0</td>\n",
       "      <td>0.0</td>\n",
       "      <td>heikkinen</td>\n",
       "      <td>0.0</td>\n",
       "      <td>0.0</td>\n",
       "    </tr>\n",
       "    <tr>\n",
       "      <th>3</th>\n",
       "      <td>4</td>\n",
       "      <td>1</td>\n",
       "      <td>Futrelle, Mrs. Jacques Heath (Lily May Peel)</td>\n",
       "      <td>female</td>\n",
       "      <td>35.0</td>\n",
       "      <td>1</td>\n",
       "      <td>0</td>\n",
       "      <td>53.1000</td>\n",
       "      <td>C123</td>\n",
       "      <td>S</td>\n",
       "      <td>...</td>\n",
       "      <td>1</td>\n",
       "      <td>44</td>\n",
       "      <td>-1</td>\n",
       "      <td>female_adult</td>\n",
       "      <td>0.0</td>\n",
       "      <td>1.0</td>\n",
       "      <td>0.0</td>\n",
       "      <td>futrelle</td>\n",
       "      <td>0.0</td>\n",
       "      <td>0.0</td>\n",
       "    </tr>\n",
       "    <tr>\n",
       "      <th>4</th>\n",
       "      <td>5</td>\n",
       "      <td>3</td>\n",
       "      <td>Allen, Mr. William Henry</td>\n",
       "      <td>male</td>\n",
       "      <td>35.0</td>\n",
       "      <td>0</td>\n",
       "      <td>0</td>\n",
       "      <td>8.0500</td>\n",
       "      <td>0</td>\n",
       "      <td>S</td>\n",
       "      <td>...</td>\n",
       "      <td>0</td>\n",
       "      <td>24</td>\n",
       "      <td>-1</td>\n",
       "      <td>male_adult</td>\n",
       "      <td>0.0</td>\n",
       "      <td>0.0</td>\n",
       "      <td>1.0</td>\n",
       "      <td>allen</td>\n",
       "      <td>0.0</td>\n",
       "      <td>0.0</td>\n",
       "    </tr>\n",
       "  </tbody>\n",
       "</table>\n",
       "<p>5 rows × 27 columns</p>\n",
       "</div>"
      ],
      "text/plain": [
       "   PassengerId  Pclass                                               Name  \\\n",
       "0            1       3                            Braund, Mr. Owen Harris   \n",
       "1            2       1  Cumings, Mrs. John Bradley (Florence Briggs Th...   \n",
       "2            3       3                             Heikkinen, Miss. Laina   \n",
       "3            4       1       Futrelle, Mrs. Jacques Heath (Lily May Peel)   \n",
       "4            5       3                           Allen, Mr. William Henry   \n",
       "\n",
       "      Sex   Age  SibSp  Parch     Fare Cabin Embarked  \\\n",
       "0    male  22.0      1      0   7.2500     0        S   \n",
       "1  female  38.0      1      0  71.2833   C85        C   \n",
       "2  female  26.0      0      0   7.9250     0        S   \n",
       "3  female  35.0      1      0  53.1000  C123        S   \n",
       "4    male  35.0      0      0   8.0500     0        S   \n",
       "\n",
       "             ...            FamilySize  NameLength  FamilyId        person  \\\n",
       "0            ...                     1          23        -1    male_adult   \n",
       "1            ...                     1          51        -1  female_adult   \n",
       "2            ...                     0          22        -1  female_adult   \n",
       "3            ...                     1          44        -1  female_adult   \n",
       "4            ...                     0          24        -1    male_adult   \n",
       "\n",
       "   child  female_adult  male_adult    surname  perishing_mother_wife  \\\n",
       "0    0.0           0.0         1.0     braund                    0.0   \n",
       "1    0.0           1.0         0.0    cumings                    0.0   \n",
       "2    0.0           1.0         0.0  heikkinen                    0.0   \n",
       "3    0.0           1.0         0.0   futrelle                    0.0   \n",
       "4    0.0           0.0         1.0      allen                    0.0   \n",
       "\n",
       "   surviving_father_husband  \n",
       "0                       0.0  \n",
       "1                       0.0  \n",
       "2                       0.0  \n",
       "3                       0.0  \n",
       "4                       0.0  \n",
       "\n",
       "[5 rows x 27 columns]"
      ]
     },
     "execution_count": 29,
     "metadata": {},
     "output_type": "execute_result"
    }
   ],
   "source": [
    "###Persihing Females\n",
    "perishing_female_surnames = list(set(full_data[(full_data.female_adult==1.0) & (full_data.Survived == 0.0) & ((full_data.Parch>0) | (full_data.SibSp>0))]['surname'].values))\n",
    "\n",
    "def perishing_mother_wife(passenger):\n",
    "    surname,Pclass,person = passenger\n",
    "    return 1.0 if (surname in perishing_female_surnames) else 0.0\n",
    "\n",
    "full_data['perishing_mother_wife'] = full_data[['surname','Pclass','person']].apply(perishing_mother_wife,axis = 1)\n",
    "\n",
    "###Surviving Males\n",
    "surviving_male_surnames = list(set(full_data[(full_data.male_adult == 1.0) & \n",
    "                                             (full_data.Survived == 1.0) & \n",
    "                                            ((full_data.Parch > 0) | (full_data.SibSp>0))]['surname'].values))\n",
    "\n",
    "def surviving_father_husband(passenger):\n",
    "    surname,Pclass,person = passenger\n",
    "    return 1.0 if (surname in surviving_male_surnames) else 0.0\n",
    "\n",
    "full_data['surviving_father_husband'] = full_data[['surname','Pclass','person']].apply(surviving_father_husband,axis = 1)\n",
    "\n",
    "full_data.head()"
   ]
  },
  {
   "cell_type": "code",
   "execution_count": null,
   "metadata": {
    "collapsed": true
   },
   "outputs": [],
   "source": [
    "#Age Impute Location\n",
    "\n"
   ]
  }
 ],
 "metadata": {
  "anaconda-cloud": {},
  "kernelspec": {
   "display_name": "Python [default]",
   "language": "python",
   "name": "python3"
  },
  "language_info": {
   "codemirror_mode": {
    "name": "ipython",
    "version": 3
   },
   "file_extension": ".py",
   "mimetype": "text/x-python",
   "name": "python",
   "nbconvert_exporter": "python",
   "pygments_lexer": "ipython3",
   "version": "3.5.2"
  }
 },
 "nbformat": 4,
 "nbformat_minor": 1
}
