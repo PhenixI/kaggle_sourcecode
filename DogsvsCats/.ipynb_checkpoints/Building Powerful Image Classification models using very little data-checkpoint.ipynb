{
 "cells": [
  {
   "cell_type": "markdown",
   "metadata": {},
   "source": [
    "Using the bottleneck features of a pre-trained network\n",
    "\n",
    "1. only instantiate the convolutional part of the model(VGG-16), everything up to the fully-connected layers.\n",
    "2. run this model on our training and validation data once,recording the output (the 'bottleneck features' from the VGG16 model: the last activation maps before the fully-connected layers) in two numpy arrays\n",
    "3. Train a small fully-connected model on top of the stored features."
   ]
  },
  {
   "cell_type": "code",
   "execution_count": null,
   "metadata": {
    "collapsed": false
   },
   "outputs": [
    {
     "name": "stderr",
     "output_type": "stream",
     "text": [
      "Using TensorFlow backend.\n"
     ]
    }
   ],
   "source": [
    "import os\n",
    "import numpy as np\n",
    "\n",
    "from keras.preprocessing.image import ImageDataGenerator\n",
    "from keras.models import Sequential\n",
    "from keras.layers import Convolution2D, MaxPooling2D,ZeroPadding2D\n",
    "from keras.layers import Activation,Dropout,Flatten,Dense"
   ]
  },
  {
   "cell_type": "code",
   "execution_count": null,
   "metadata": {
    "collapsed": true
   },
   "outputs": [],
   "source": [
    "#path to the model weights file"
   ]
  }
 ],
 "metadata": {
  "kernelspec": {
   "display_name": "Python [default]",
   "language": "python",
   "name": "python3"
  },
  "language_info": {
   "codemirror_mode": {
    "name": "ipython",
    "version": 3
   },
   "file_extension": ".py",
   "mimetype": "text/x-python",
   "name": "python",
   "nbconvert_exporter": "python",
   "pygments_lexer": "ipython3",
   "version": "3.5.2"
  }
 },
 "nbformat": 4,
 "nbformat_minor": 1
}
